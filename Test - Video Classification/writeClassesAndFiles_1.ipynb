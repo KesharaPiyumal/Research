{
 "cells": [
  {
   "cell_type": "code",
   "execution_count": 5,
   "metadata": {},
   "outputs": [],
   "source": [
    "import os\n",
    "main_path = r'C:\\Users\\Kesara\\Hands On Ke\\UCF'\n",
    "\n",
    "def listDir(path, f):\n",
    "    fileNames = os.listdir(path)\n",
    "    for fName in fileNames:\n",
    "        childPath = path+ \"/\" +fName\n",
    "        childFileNames = os.listdir(childPath)\n",
    "        for childFileName in childFileNames:\n",
    "            f.write(fName+'/'+\"%s\\n\" % childFileName)"
   ]
  },
  {
   "cell_type": "code",
   "execution_count": 6,
   "metadata": {},
   "outputs": [],
   "source": [
    "f = open(\"classList.txt\", \"w\")\n",
    "if __name__ == '__main__' :\n",
    "    listDir(main_path, f)\n",
    "f.close()"
   ]
  },
  {
   "cell_type": "code",
   "execution_count": null,
   "metadata": {},
   "outputs": [],
   "source": []
  }
 ],
 "metadata": {
  "kernelspec": {
   "display_name": "Python 3",
   "language": "python",
   "name": "python3"
  },
  "language_info": {
   "codemirror_mode": {
    "name": "ipython",
    "version": 3
   },
   "file_extension": ".py",
   "mimetype": "text/x-python",
   "name": "python",
   "nbconvert_exporter": "python",
   "pygments_lexer": "ipython3",
   "version": "3.8.3"
  }
 },
 "nbformat": 4,
 "nbformat_minor": 4
}
